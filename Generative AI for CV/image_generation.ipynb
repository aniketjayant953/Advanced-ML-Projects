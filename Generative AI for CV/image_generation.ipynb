{
 "cells": [
  {
   "cell_type": "code",
   "execution_count": null,
   "id": "73500033-1d1e-481b-9783-ff909625e2df",
   "metadata": {},
   "outputs": [],
   "source": [
    "# How to genereate image from openai \n",
    "from openai import OpenAI\n",
    "import requests\n",
    "from PIL import Image\n",
    "from io import BytesIO\n",
    "\n",
    "\n",
    "# Intialize OpenAI client\n",
    "client = OpenAI(api_key=\"<your openai api key>\")\n",
    "\n",
    "# Set the prompt\n",
    "prompt = \"Generate a monkey coding and a banana on the table\"\n",
    "\n",
    "# Call the OpenAI API\n",
    "response = client.image.generate(\n",
    "    model = 'dall-e-3',\n",
    "    prompt = prompt,\n",
    "    n = 1,\n",
    "    size = '1024x1024',\n",
    "    response_format = 'url',\n",
    ")\n",
    "\n",
    "generate_image_url = response.data[0].url\n",
    "print(generate_image_url)\n",
    "\n",
    "generate_image = requests.get(generate_image_url).content\n",
    "\n",
    "# Open the image\n",
    "display(Image.open(BytesIO(generated_image)))"
   ]
  },
  {
   "cell_type": "markdown",
   "id": "7dd8a281-5f2d-438f-b266-9985ee7a19d5",
   "metadata": {},
   "source": [
    "# Pillow tutorial"
   ]
  },
  {
   "cell_type": "code",
   "execution_count": 23,
   "id": "038ab2c6-93ef-46a5-b8a6-7df026667078",
   "metadata": {},
   "outputs": [
    {
     "name": "stdout",
     "output_type": "stream",
     "text": [
      "(1000, 667)\n"
     ]
    }
   ],
   "source": [
    "# Importing the necessary libraries\n",
    "from PIL import Image, ImageDraw, ImageFont\n",
    "\n",
    "# Opening a Image\n",
    "image_path = 'photo.jpg'\n",
    "image = Image.open(image_path)\n",
    "print(image.size)\n",
    "image.show()"
   ]
  },
  {
   "cell_type": "code",
   "execution_count": 25,
   "id": "4a5873ba-db32-4c63-acac-91e4eb28459d",
   "metadata": {},
   "outputs": [],
   "source": [
    "# Resizing the image\n",
    "new_size = (300, 300)\n",
    "resized_image = image.resize(new_size)\n",
    "resized_image.show()"
   ]
  },
  {
   "cell_type": "code",
   "execution_count": 27,
   "id": "5073c917-3c2a-481e-b32f-c5b23537ace5",
   "metadata": {},
   "outputs": [],
   "source": [
    "# Cropping an image\n",
    "crop_box = (50, 50, 400, 400)\n",
    "cropped_image = image.crop(crop_box)\n",
    "cropped_image.show()"
   ]
  },
  {
   "cell_type": "code",
   "execution_count": null,
   "id": "10c67a08-a162-42e6-a11c-2b6a97efed90",
   "metadata": {},
   "outputs": [],
   "source": [
    "# Adding text to an image\n",
    "\n",
    "text_image = image.copy()\n",
    "draw = ImageDraw.Draw(text_image)\n",
    "font = ImageFont.load_default()\n",
    "text = 'Hello, world!'\n",
    "text_position = (50, 50)\n",
    "draw.text(text_position, text, fill='red', font=font)\n",
    "text_image.show()"
   ]
  },
  {
   "cell_type": "code",
   "execution_count": 43,
   "id": "73f29bc7-12ab-4168-95e6-3cef7b25d8a5",
   "metadata": {},
   "outputs": [],
   "source": [
    "text_image = image.copy()\n",
    "draw = ImageDraw.Draw(text_image)\n",
    "font = ImageFont.load_default()\n",
    "text = 'Hello, world!'\n",
    "position = (50,  50)\n",
    "draw.text(position, text, fill='black', font=font)\n",
    "text_image.show()"
   ]
  },
  {
   "cell_type": "code",
   "execution_count": null,
   "id": "26a0ba7e-8edd-4f09-a611-032177dd597f",
   "metadata": {},
   "outputs": [],
   "source": [
    "# Rotating Image\n",
    "rotated_image = image.rotate(45)\n",
    "rotated_image.show()"
   ]
  },
  {
   "cell_type": "code",
   "execution_count": 47,
   "id": "9d1a7db8-a79f-4551-a228-2cf9e732be1e",
   "metadata": {},
   "outputs": [],
   "source": [
    "# Converting to Grayscale\n",
    "gray_image = image.convert(\"L\")\n",
    "gray_image.show()"
   ]
  },
  {
   "cell_type": "markdown",
   "id": "fdf1a645-7a1d-4503-9450-ec0d63999e93",
   "metadata": {},
   "source": [
    "# Grayscale Image"
   ]
  },
  {
   "cell_type": "code",
   "execution_count": 117,
   "id": "7a36c2ed-a7ac-4636-aa33-b794ad88b0ad",
   "metadata": {},
   "outputs": [
    {
     "name": "stdout",
     "output_type": "stream",
     "text": [
      "Pixel data has been saved to C:/Users/Aniket/Image GenAI/gray_scale.xlsx\n"
     ]
    }
   ],
   "source": [
    "from PIL import Image\n",
    "import openpyxl\n",
    "from openpyxl.styles import PatternFill\n",
    "\n",
    "# Load the image\n",
    "image_path = 'photo.jpg' \n",
    "image = Image.open(image_path)\n",
    "image = image.convert('L')  # Convert to grayscale\n",
    "\n",
    "# Resize the image\n",
    "new_width, new_height = 64, 128 \n",
    "image = image.resize((new_width, new_height))\n",
    "\n",
    "# Get pixel data\n",
    "pixels = list(image.getdata())\n",
    "width, height = image.size\n",
    "\n",
    "# Create a new Excel workbook and select the active worksheet\n",
    "wb = openpyxl.Workbook()\n",
    "ws = wb.active\n",
    "\n",
    "# Fill the Excel sheet with grayscale values and apply coloring\n",
    "for y in range(height):\n",
    "    for x in range(width):\n",
    "        gray = pixels[y * width + x]\n",
    "        cell = ws.cell(row=y + 1, column=x + 1)\n",
    "        cell.value = gray\n",
    "        hex_value = f'{gray:02X}'\n",
    "        fill = PatternFill(start_color=hex_value * 3, end_color=hex_value * 3, fill_type=\"solid\")\n",
    "        cell.fill = fill\n",
    "\n",
    "# Save the workbook\n",
    "excel_path = 'C:/Users/Aniket/Image GenAI/gray_scale.xlsx' \n",
    "wb.save(excel_path)\n",
    "\n",
    "print(f'Pixel data has been saved to {excel_path}')"
   ]
  },
  {
   "cell_type": "markdown",
   "id": "4fee03c9-2109-4436-9551-d8ba4791fcbb",
   "metadata": {},
   "source": [
    "# Color Image"
   ]
  },
  {
   "cell_type": "code",
   "execution_count": 107,
   "id": "f2ed4dc6-7ad0-44f5-95fb-e9523289a3d2",
   "metadata": {},
   "outputs": [
    {
     "name": "stdout",
     "output_type": "stream",
     "text": [
      "Pixel data has been saved to C:/Users/Aniket/Image GenAI/rgb_scale.xlsx\n"
     ]
    }
   ],
   "source": [
    "from PIL import Image\n",
    "import openpyxl \n",
    "from openpyxl.styles import PatternFill\n",
    "\n",
    "# Load the image\n",
    "image_path = 'photo.jpg'\n",
    "image = Image.open(image_path)\n",
    "image = image.convert('RGB')\n",
    "\n",
    "# Resize the image\n",
    "new_width, new_height = 64, 128\n",
    "image = image.resize((new_width, new_height))\n",
    "\n",
    "# Get Pixel\n",
    "pixels = list(image.getdata())\n",
    "width, height = image.size\n",
    "\n",
    "# Create a new Excel workbook and select the active worksheet\n",
    "wb = openpyxl.Workbook()\n",
    "ws = wb.active\n",
    "\n",
    "# Fill the cells of the Excelsheet with the RGB values and apply to color\n",
    "for y in range(height):\n",
    "    for x in range(width):\n",
    "        r, g, b = pixels[y * width + x]\n",
    "        cell = ws.cell(row=y+1, column= x+1)\n",
    "        cell.value = f'{r},{g},{b}'\n",
    "        fill = PatternFill(start_color=f\"{r:02X}{g:02X}{b:02X}\", end_color=f'{r:02X}{g:02X}{b:02X}', fill_type=\"solid\")\n",
    "        cell.fill = fill\n",
    "\n",
    "# Save the workbook\n",
    "excel_path = 'C:/Users/Aniket/Image GenAI/rgb_scale.xlsx' \n",
    "wb.save(excel_path)\n",
    "\n",
    "print(f\"Pixel data has been saved to {excel_path}\")"
   ]
  },
  {
   "cell_type": "markdown",
   "id": "2426f8ea-9a11-4b90-8509-551d3b1a9007",
   "metadata": {},
   "source": [
    "# Red Scale Image"
   ]
  },
  {
   "cell_type": "code",
   "execution_count": null,
   "id": "10f9543c-6849-4d19-968b-9860b890b06d",
   "metadata": {},
   "outputs": [],
   "source": [
    "from PIL import Image\n",
    "import openpyxl \n",
    "from openpyxl.styles import PatternFill\n",
    "\n",
    "# Load the image\n",
    "image_path = 'photo.jpg'\n",
    "image = Image.open(image_path)\n",
    "image = image.convert('RGB')\n",
    "\n",
    "# Resize the image\n",
    "new_width, new_height = 64, 128\n",
    "image = image.resize((new_width, new_height))\n",
    "\n",
    "# Get Pixel\n",
    "pixels = list(image.getdata())\n",
    "width, height = image.size\n",
    "\n",
    "# Create a new Excel workbook and select the active worksheet\n",
    "wb = openpyxl.Workbook()\n",
    "ws = wb.active\n",
    "\n",
    "# Fill the cells of the Excel sheet with the RGB values and apply the  color\n",
    "for y in range(height):\n",
    "    for x in range(width):\n",
    "        r, g, b = pixels[y * width + x]\n",
    "        cell = ws.cell(row=y+1, column= x+1)\n",
    "        cell.value = f'{r}'\n",
    "        fill = PatternFill(start_color=f\"{r:02X}0000\" , end_color=f'{r:02X}0000', fill_type=\"solid\")\n",
    "        cell.fill = fill\n",
    "\n",
    "# Save the workbook\n",
    "excel_path = 'C:/Users/Aniket/Image GenAI/red_scale.xlsx' \n",
    "wb.save(excel_path)\n",
    "\n",
    "print(f\"Pixel data has been saved to {excel_path}\")"
   ]
  },
  {
   "cell_type": "markdown",
   "id": "69d4d453-2ef0-4ccd-970f-fe0c98aefdb7",
   "metadata": {},
   "source": [
    "# Green Scale Image"
   ]
  },
  {
   "cell_type": "code",
   "execution_count": 123,
   "id": "8a09f0d3-d79d-466d-b093-48778168da4f",
   "metadata": {},
   "outputs": [
    {
     "name": "stdout",
     "output_type": "stream",
     "text": [
      "Pixel data has been saved to C:/Users/Aniket/Image GenAI/green_scale.xlsx\n"
     ]
    }
   ],
   "source": [
    "from PIL import Image\n",
    "import openpyxl \n",
    "from openpyxl.styles import PatternFill\n",
    "\n",
    "# Load the image\n",
    "image_path = 'photo.jpg'\n",
    "image = Image.open(image_path)\n",
    "image = image.convert('RGB')\n",
    "\n",
    "# Resize the image\n",
    "new_width, new_height = 64, 128\n",
    "image = image.resize((new_width, new_height))\n",
    "\n",
    "# Get Pixel\n",
    "pixels = list(image.getdata())\n",
    "width, height = image.size\n",
    "\n",
    "# Create a new Excel workbook and select the active worksheet\n",
    "wb = openpyxl.Workbook()\n",
    "ws = wb.active\n",
    "\n",
    "# Fill the cells of the Excel sheet with the RGB values and apply the  color\n",
    "for y in range(height):\n",
    "    for x in range(width):\n",
    "        r, g, b = pixels[y * width + x]\n",
    "        cell = ws.cell(row=y+1, column= x+1)\n",
    "        cell.value = f'{g}'\n",
    "        fill = PatternFill(start_color=f\"00{g:02X}00\" , end_color=f'00{g:02X}00', fill_type=\"solid\")\n",
    "        cell.fill = fill\n",
    "\n",
    "# Save the workbook\n",
    "excel_path = 'C:/Users/Aniket/Image GenAI/green_scale.xlsx' \n",
    "wb.save(excel_path)\n",
    "\n",
    "print(f\"Pixel data has been saved to {excel_path}\")"
   ]
  },
  {
   "cell_type": "markdown",
   "id": "110c7709-3242-41ab-a56c-289fb8177206",
   "metadata": {},
   "source": [
    "# Blue Image"
   ]
  },
  {
   "cell_type": "code",
   "execution_count": 129,
   "id": "71632c27-59a7-46d4-b1b5-28bedb85da9d",
   "metadata": {},
   "outputs": [
    {
     "name": "stdout",
     "output_type": "stream",
     "text": [
      "Pixel data has been saved to C:/Users/Aniket/Image GenAI/blue_scale.xlsx\n"
     ]
    }
   ],
   "source": [
    "from PIL import Image\n",
    "import openpyxl \n",
    "from openpyxl.styles import PatternFill\n",
    "\n",
    "# Load the image\n",
    "image_path = 'photo.jpg'\n",
    "image = Image.open(image_path)\n",
    "image = image.convert('RGB')\n",
    "\n",
    "# Resize the image\n",
    "new_width, new_height = 64, 128\n",
    "image = image.resize((new_width, new_height))\n",
    "\n",
    "# Get Pixel\n",
    "pixels = list(image.getdata())\n",
    "width, height = image.size\n",
    "\n",
    "# Create a new Excel workbook and select the active worksheet\n",
    "wb = openpyxl.Workbook()\n",
    "ws = wb.active\n",
    "\n",
    "# Fill the cells of the Excel sheet with the RGB values and apply the  color\n",
    "for y in range(height):\n",
    "    for x in range(width):\n",
    "        r, g, b = pixels[y * width + x]\n",
    "        cell = ws.cell(row=y+1, column= x+1)\n",
    "        cell.value = f'{b}'\n",
    "        fill = PatternFill(start_color=f\"0000{b:02X}\" , end_color=f'0000{b:02X}', fill_type=\"solid\")\n",
    "        cell.fill = fill\n",
    "\n",
    "# Save the workbook\n",
    "excel_path = 'C:/Users/Aniket/Image GenAI/blue_scale.xlsx' \n",
    "wb.save(excel_path)\n",
    "\n",
    "print(f\"Pixel data has been saved to {excel_path}\")"
   ]
  },
  {
   "cell_type": "code",
   "execution_count": null,
   "id": "3a6b5edd-4e38-4df2-9fb6-b7883b69517c",
   "metadata": {},
   "outputs": [],
   "source": []
  }
 ],
 "metadata": {
  "kernelspec": {
   "display_name": "Python 3 (ipykernel)",
   "language": "python",
   "name": "python3"
  },
  "language_info": {
   "codemirror_mode": {
    "name": "ipython",
    "version": 3
   },
   "file_extension": ".py",
   "mimetype": "text/x-python",
   "name": "python",
   "nbconvert_exporter": "python",
   "pygments_lexer": "ipython3",
   "version": "3.12.4"
  }
 },
 "nbformat": 4,
 "nbformat_minor": 5
}
