{
 "cells": [
  {
   "cell_type": "code",
   "execution_count": 2,
   "id": "de59303a",
   "metadata": {
    "scrolled": false
   },
   "outputs": [
    {
     "name": "stdout",
     "output_type": "stream",
     "text": [
      "Collecting nlpcloud\n",
      "  Downloading nlpcloud-1.0.41-py3-none-any.whl (4.5 kB)\n",
      "Requirement already satisfied: requests in c:\\users\\aniket\\anaconda3\\lib\\site-packages (from nlpcloud) (2.27.1)\n",
      "Requirement already satisfied: certifi>=2017.4.17 in c:\\users\\aniket\\anaconda3\\lib\\site-packages (from requests->nlpcloud) (2022.9.24)\n",
      "Requirement already satisfied: charset-normalizer~=2.0.0 in c:\\users\\aniket\\anaconda3\\lib\\site-packages (from requests->nlpcloud) (2.0.4)\n",
      "Requirement already satisfied: idna<4,>=2.5 in c:\\users\\aniket\\anaconda3\\lib\\site-packages (from requests->nlpcloud) (3.3)\n",
      "Requirement already satisfied: urllib3<1.27,>=1.21.1 in c:\\users\\aniket\\anaconda3\\lib\\site-packages (from requests->nlpcloud) (1.26.9)\n",
      "Installing collected packages: nlpcloud\n",
      "Successfully installed nlpcloud-1.0.41\n"
     ]
    },
    {
     "name": "stderr",
     "output_type": "stream",
     "text": [
      "\n",
      "[notice] A new release of pip available: 22.3.1 -> 23.1.2\n",
      "[notice] To update, run: python.exe -m pip install --upgrade pip\n"
     ]
    }
   ],
   "source": [
    "# '!' Signifies this is a command not a code\n",
    "!pip install nlpcloud"
   ]
  },
  {
   "cell_type": "code",
   "execution_count": null,
   "id": "cff74d56",
   "metadata": {},
   "outputs": [],
   "source": [
    "# So this api is so bad that sometimes it responds and sometimes it does not. Sentiment works but ner don't work. Go to nlpcloud.com to get the api-key\n",
    "import nlpcloud\n",
    "\n",
    "client = nlpcloud.Client(\"finetuned-gpt-neox-20b\", \"<your nlp cloud api key>\", gpu=True, lang=\"en\")\n",
    "client.entities(\"\"\"John Doe started learning Javascript when he was 15 years old. After a couple of years he switched to Python and starter learning low level programming. He is now a Go expert at Google.\"\"\", searched_entity=\"programming languages\")"
   ]
  },
  {
   "cell_type": "code",
   "execution_count": null,
   "id": "bba8f859",
   "metadata": {},
   "outputs": [
    {
     "name": "stdout",
     "output_type": "stream",
     "text": [
      "\n",
      "        Hi! How would you like to proceed?\n",
      "        1. Not a member? Register\n",
      "        2. Already a member? Login\n",
      "        3. Galti se aa gaye? Exit\n",
      "        1\n",
      "Enter Name: a\n",
      "Enter Email: a\n",
      "Enter Password: 1\n",
      "Registration successful.\n",
      "{'a': ['a', '1']}\n",
      "\n",
      "        Hi! How would you like to proceed?\n",
      "        1. Not a member? Register\n",
      "        2. Already a member? Login\n",
      "        3. Galti se aa gaye? Exit\n",
      "        2\n",
      "Enter Email: a\n",
      "Enter Password: 1\n",
      "Login Successful\n",
      "\n",
      "        Hi! How would you like to proceed?\n",
      "        1. NER\n",
      "        2. Language Detection\n",
      "        3. Sentiment Analysis\n",
      "        4. Logout\n",
      "        3\n",
      "Enter the Paragraph: bad \n"
     ]
    },
    {
     "ename": "HTTPError",
     "evalue": "404 Client Error: Not Found for url: https://api.nlpcloud.io/v1/gpu/finetuned-gpt-neox-20b/sentiment: 404 page not found\n",
     "output_type": "error",
     "traceback": [
      "\u001b[1;31m---------------------------------------------------------------------------\u001b[0m",
      "\u001b[1;31mHTTPError\u001b[0m                                 Traceback (most recent call last)",
      "File \u001b[1;32m~\\anaconda3\\lib\\site-packages\\nlpcloud\\__init__.py:437\u001b[0m, in \u001b[0;36mClient.sentiment\u001b[1;34m(self, text)\u001b[0m\n\u001b[0;32m    436\u001b[0m \u001b[38;5;28;01mtry\u001b[39;00m:\n\u001b[1;32m--> 437\u001b[0m     \u001b[43mr\u001b[49m\u001b[38;5;241;43m.\u001b[39;49m\u001b[43mraise_for_status\u001b[49m\u001b[43m(\u001b[49m\u001b[43m)\u001b[49m\n\u001b[0;32m    438\u001b[0m \u001b[38;5;28;01mexcept\u001b[39;00m HTTPError \u001b[38;5;28;01mas\u001b[39;00m err:\n",
      "File \u001b[1;32m~\\anaconda3\\lib\\site-packages\\requests\\models.py:960\u001b[0m, in \u001b[0;36mResponse.raise_for_status\u001b[1;34m(self)\u001b[0m\n\u001b[0;32m    959\u001b[0m \u001b[38;5;28;01mif\u001b[39;00m http_error_msg:\n\u001b[1;32m--> 960\u001b[0m     \u001b[38;5;28;01mraise\u001b[39;00m HTTPError(http_error_msg, response\u001b[38;5;241m=\u001b[39m\u001b[38;5;28mself\u001b[39m)\n",
      "\u001b[1;31mHTTPError\u001b[0m: 404 Client Error: Not Found for url: https://api.nlpcloud.io/v1/gpu/finetuned-gpt-neox-20b/sentiment",
      "\nDuring handling of the above exception, another exception occurred:\n",
      "\u001b[1;31mHTTPError\u001b[0m                                 Traceback (most recent call last)",
      "Input \u001b[1;32mIn [7]\u001b[0m, in \u001b[0;36m<cell line: 81>\u001b[1;34m()\u001b[0m\n\u001b[0;32m     77\u001b[0m         response \u001b[38;5;241m=\u001b[39m client\u001b[38;5;241m.\u001b[39msentiment(para)\n\u001b[0;32m     79\u001b[0m         \u001b[38;5;28mprint\u001b[39m(response)\n\u001b[1;32m---> 81\u001b[0m obj \u001b[38;5;241m=\u001b[39m \u001b[43mNLPApp\u001b[49m\u001b[43m(\u001b[49m\u001b[43m)\u001b[49m\n",
      "Input \u001b[1;32mIn [7]\u001b[0m, in \u001b[0;36mNLPApp.__init__\u001b[1;34m(self)\u001b[0m\n\u001b[0;32m      4\u001b[0m \u001b[38;5;28;01mdef\u001b[39;00m \u001b[38;5;21m__init__\u001b[39m(\u001b[38;5;28mself\u001b[39m):\n\u001b[0;32m      6\u001b[0m     \u001b[38;5;28mself\u001b[39m\u001b[38;5;241m.\u001b[39m__database \u001b[38;5;241m=\u001b[39m {}\n\u001b[1;32m----> 7\u001b[0m     \u001b[38;5;28;43mself\u001b[39;49m\u001b[38;5;241;43m.\u001b[39;49m\u001b[43m__first_menu\u001b[49m\u001b[43m(\u001b[49m\u001b[43m)\u001b[49m\n",
      "Input \u001b[1;32mIn [7]\u001b[0m, in \u001b[0;36mNLPApp.__first_menu\u001b[1;34m(self)\u001b[0m\n\u001b[0;32m     11\u001b[0m first_input \u001b[38;5;241m=\u001b[39m \u001b[38;5;28minput\u001b[39m(\u001b[38;5;124m'''\u001b[39m\n\u001b[0;32m     12\u001b[0m \u001b[38;5;124mHi! How would you like to proceed?\u001b[39m\n\u001b[0;32m     13\u001b[0m \u001b[38;5;124m1. Not a member? Register\u001b[39m\n\u001b[0;32m     14\u001b[0m \u001b[38;5;124m2. Already a member? Login\u001b[39m\n\u001b[0;32m     15\u001b[0m \u001b[38;5;124m3. Galti se aa gaye? Exit\u001b[39m\n\u001b[0;32m     16\u001b[0m \u001b[38;5;124m\u001b[39m\u001b[38;5;124m'''\u001b[39m)\n\u001b[0;32m     18\u001b[0m \u001b[38;5;28;01mif\u001b[39;00m first_input \u001b[38;5;241m==\u001b[39m \u001b[38;5;124m'\u001b[39m\u001b[38;5;124m1\u001b[39m\u001b[38;5;124m'\u001b[39m:\n\u001b[1;32m---> 19\u001b[0m     \u001b[38;5;28;43mself\u001b[39;49m\u001b[38;5;241;43m.\u001b[39;49m\u001b[43m__register\u001b[49m\u001b[43m(\u001b[49m\u001b[43m)\u001b[49m\n\u001b[0;32m     20\u001b[0m \u001b[38;5;28;01melif\u001b[39;00m first_input \u001b[38;5;241m==\u001b[39m \u001b[38;5;124m'\u001b[39m\u001b[38;5;124m2\u001b[39m\u001b[38;5;124m'\u001b[39m:\n\u001b[0;32m     21\u001b[0m     \u001b[38;5;28mself\u001b[39m\u001b[38;5;241m.\u001b[39m__login()\n",
      "Input \u001b[1;32mIn [7]\u001b[0m, in \u001b[0;36mNLPApp.__register\u001b[1;34m(self)\u001b[0m\n\u001b[0;32m     34\u001b[0m \u001b[38;5;28mprint\u001b[39m(\u001b[38;5;124m'\u001b[39m\u001b[38;5;124mRegistration successful.\u001b[39m\u001b[38;5;124m'\u001b[39m)\n\u001b[0;32m     35\u001b[0m \u001b[38;5;28mprint\u001b[39m(\u001b[38;5;28mself\u001b[39m\u001b[38;5;241m.\u001b[39m__database)\n\u001b[1;32m---> 36\u001b[0m \u001b[38;5;28;43mself\u001b[39;49m\u001b[38;5;241;43m.\u001b[39;49m\u001b[43m__first_menu\u001b[49m\u001b[43m(\u001b[49m\u001b[43m)\u001b[49m\n",
      "Input \u001b[1;32mIn [7]\u001b[0m, in \u001b[0;36mNLPApp.__first_menu\u001b[1;34m(self)\u001b[0m\n\u001b[0;32m     19\u001b[0m     \u001b[38;5;28mself\u001b[39m\u001b[38;5;241m.\u001b[39m__register()\n\u001b[0;32m     20\u001b[0m \u001b[38;5;28;01melif\u001b[39;00m first_input \u001b[38;5;241m==\u001b[39m \u001b[38;5;124m'\u001b[39m\u001b[38;5;124m2\u001b[39m\u001b[38;5;124m'\u001b[39m:\n\u001b[1;32m---> 21\u001b[0m     \u001b[38;5;28;43mself\u001b[39;49m\u001b[38;5;241;43m.\u001b[39;49m\u001b[43m__login\u001b[49m\u001b[43m(\u001b[49m\u001b[43m)\u001b[49m\n\u001b[0;32m     22\u001b[0m \u001b[38;5;28;01melse\u001b[39;00m:\n\u001b[0;32m     23\u001b[0m     exit()\n",
      "Input \u001b[1;32mIn [7]\u001b[0m, in \u001b[0;36mNLPApp.__login\u001b[1;34m(self)\u001b[0m\n\u001b[0;32m     43\u001b[0m \u001b[38;5;28;01mif\u001b[39;00m \u001b[38;5;28mself\u001b[39m\u001b[38;5;241m.\u001b[39m__database[email][\u001b[38;5;241m1\u001b[39m] \u001b[38;5;241m==\u001b[39m password:\n\u001b[0;32m     44\u001b[0m     \u001b[38;5;28mprint\u001b[39m(\u001b[38;5;124m'\u001b[39m\u001b[38;5;124mLogin Successful\u001b[39m\u001b[38;5;124m'\u001b[39m)\n\u001b[1;32m---> 45\u001b[0m     \u001b[38;5;28;43mself\u001b[39;49m\u001b[38;5;241;43m.\u001b[39;49m\u001b[43m__second_menu\u001b[49m\u001b[43m(\u001b[49m\u001b[43m)\u001b[49m\n\u001b[0;32m     46\u001b[0m \u001b[38;5;28;01melse\u001b[39;00m:\n\u001b[0;32m     47\u001b[0m     \u001b[38;5;28mprint\u001b[39m(\u001b[38;5;124m'\u001b[39m\u001b[38;5;124mWrong password.Try again\u001b[39m\u001b[38;5;124m'\u001b[39m)\n",
      "Input \u001b[1;32mIn [7]\u001b[0m, in \u001b[0;36mNLPApp.__second_menu\u001b[1;34m(self)\u001b[0m\n\u001b[0;32m     64\u001b[0m     \u001b[38;5;28mself\u001b[39m\u001b[38;5;241m.\u001b[39m__ner()\n\u001b[0;32m     65\u001b[0m \u001b[38;5;28;01melif\u001b[39;00m second_input \u001b[38;5;241m==\u001b[39m \u001b[38;5;124m'\u001b[39m\u001b[38;5;124m3\u001b[39m\u001b[38;5;124m'\u001b[39m:\n\u001b[1;32m---> 66\u001b[0m     \u001b[38;5;28;43mself\u001b[39;49m\u001b[38;5;241;43m.\u001b[39;49m\u001b[43m__sentimentAnalysis\u001b[49m\u001b[43m(\u001b[49m\u001b[43m)\u001b[49m\n\u001b[0;32m     67\u001b[0m \u001b[38;5;28;01melif\u001b[39;00m second_input \u001b[38;5;241m==\u001b[39m \u001b[38;5;124m'\u001b[39m\u001b[38;5;124m2\u001b[39m\u001b[38;5;124m'\u001b[39m:\n\u001b[0;32m     68\u001b[0m     \u001b[38;5;28mself\u001b[39m\u001b[38;5;241m.\u001b[39m__languageDetection()\n",
      "Input \u001b[1;32mIn [7]\u001b[0m, in \u001b[0;36mNLPApp.__sentimentAnalysis\u001b[1;34m(self)\u001b[0m\n\u001b[0;32m     74\u001b[0m \u001b[38;5;66;03m#search_term = input('What would you like to search: ')\u001b[39;00m\n\u001b[0;32m     76\u001b[0m client \u001b[38;5;241m=\u001b[39m nlpcloud\u001b[38;5;241m.\u001b[39mClient(\u001b[38;5;124m\"\u001b[39m\u001b[38;5;124mfinetuned-gpt-neox-20b\u001b[39m\u001b[38;5;124m\"\u001b[39m, \u001b[38;5;124m\"\u001b[39m\u001b[38;5;124m2b58d7fb9af09e617ee525e78c7766b6d8c5bb61\u001b[39m\u001b[38;5;124m\"\u001b[39m, gpu\u001b[38;5;241m=\u001b[39m\u001b[38;5;28;01mTrue\u001b[39;00m, lang\u001b[38;5;241m=\u001b[39m\u001b[38;5;124m\"\u001b[39m\u001b[38;5;124men\u001b[39m\u001b[38;5;124m\"\u001b[39m)\n\u001b[1;32m---> 77\u001b[0m response \u001b[38;5;241m=\u001b[39m \u001b[43mclient\u001b[49m\u001b[38;5;241;43m.\u001b[39;49m\u001b[43msentiment\u001b[49m\u001b[43m(\u001b[49m\u001b[43mpara\u001b[49m\u001b[43m)\u001b[49m\n\u001b[0;32m     79\u001b[0m \u001b[38;5;28mprint\u001b[39m(response)\n",
      "File \u001b[1;32m~\\anaconda3\\lib\\site-packages\\nlpcloud\\__init__.py:439\u001b[0m, in \u001b[0;36mClient.sentiment\u001b[1;34m(self, text)\u001b[0m\n\u001b[0;32m    437\u001b[0m     r\u001b[38;5;241m.\u001b[39mraise_for_status()\n\u001b[0;32m    438\u001b[0m \u001b[38;5;28;01mexcept\u001b[39;00m HTTPError \u001b[38;5;28;01mas\u001b[39;00m err:\n\u001b[1;32m--> 439\u001b[0m     \u001b[38;5;28;01mraise\u001b[39;00m HTTPError(\u001b[38;5;28mstr\u001b[39m(err) \u001b[38;5;241m+\u001b[39m \u001b[38;5;124m\"\u001b[39m\u001b[38;5;124m: \u001b[39m\u001b[38;5;124m\"\u001b[39m \u001b[38;5;241m+\u001b[39m \u001b[38;5;28mstr\u001b[39m(r\u001b[38;5;241m.\u001b[39mtext))\n\u001b[0;32m    441\u001b[0m \u001b[38;5;28;01mreturn\u001b[39;00m r\u001b[38;5;241m.\u001b[39mjson()\n",
      "\u001b[1;31mHTTPError\u001b[0m: 404 Client Error: Not Found for url: https://api.nlpcloud.io/v1/gpu/finetuned-gpt-neox-20b/sentiment: 404 page not found\n"
     ]
    }
   ],
   "source": [
    "import nlpcloud\n",
    "class NLPApp:\n",
    "    \n",
    "    def __init__(self):\n",
    "        \n",
    "        self.__database = {}\n",
    "        self.__first_menu()\n",
    "        \n",
    "    def __first_menu(self):\n",
    "        \n",
    "        first_input = input('''\n",
    "        Hi! How would you like to proceed?\n",
    "        1. Not a member? Register\n",
    "        2. Already a member? Login\n",
    "        3. Galti se aa gaye? Exit\n",
    "        ''')\n",
    "        \n",
    "        if first_input == '1':\n",
    "            self.__register()\n",
    "        elif first_input == '2':\n",
    "            self.__login()\n",
    "        else:\n",
    "            exit()\n",
    "\n",
    "    def __register(self):\n",
    "        name = input('Enter Name: ')\n",
    "        email = input('Enter Email: ')\n",
    "        password = input('Enter Password: ')\n",
    "        \n",
    "        if email in self.__database:\n",
    "            print('Email already exists.')\n",
    "        else:\n",
    "            self.__database[email] = [name,password]\n",
    "            print('Registration successful.')\n",
    "            print(self.__database)\n",
    "            self.__first_menu()\n",
    "\n",
    "    def __login(self):\n",
    "        email = input('Enter Email: ')\n",
    "        password = input('Enter Password: ')\n",
    "        \n",
    "        if email in self.__database:\n",
    "            if self.__database[email][1] == password:\n",
    "                print('Login Successful')\n",
    "                self.__second_menu()\n",
    "            else:\n",
    "                print('Wrong password.Try again')\n",
    "                self.__login()\n",
    "        else:\n",
    "            print('This email is not registered.')\n",
    "            self.__first_menu()\n",
    "        \n",
    "    def __second_menu(self):\n",
    "        \n",
    "        second_input = input('''\n",
    "        Hi! How would you like to proceed?\n",
    "        1. NER\n",
    "        2. Language Detection\n",
    "        3. Sentiment Analysis\n",
    "        4. Logout\n",
    "        ''')\n",
    "        \n",
    "        if second_input == '1':\n",
    "            self.__ner()\n",
    "        elif second_input == '3':\n",
    "            self.__sentimentAnalysis()\n",
    "        elif second_input == '2':\n",
    "            self.__languageDetection()\n",
    "        else:\n",
    "            exit()\n",
    "\n",
    "    def __sentimentAnalysis(self):\n",
    "        para = input(\"Enter the Paragraph: \")\n",
    "        #search_term = input('What would you like to search: ')\n",
    "        \n",
    "        client = nlpcloud.Client(\"finetuned-gpt-neox-20b\", \"<your nlp cloud api key>\", gpu=True, lang=\"en\")\n",
    "        response = client.sentiment(para)\n",
    "        \n",
    "        \n",
    "        l = []\n",
    "        for i in response['scored_labels']:\n",
    "            l.append(i['score'])\n",
    "\n",
    "        index = sorted(list(enumerate(l)),key=lambda x: x[1],reverse =True)[0][0]\n",
    "        \n",
    "        print(response['scored_labels'][index]['label'])\n",
    "        self.__second_menu()\n",
    "        \n",
    "obj = NLPApp()"
   ]
  },
  {
   "cell_type": "code",
   "execution_count": null,
   "id": "440bb681",
   "metadata": {},
   "outputs": [],
   "source": [
    "# Above error is bc this is paid api and my limit is expired"
   ]
  },
  {
   "cell_type": "code",
   "execution_count": 8,
   "id": "5dc55735",
   "metadata": {},
   "outputs": [],
   "source": [
    "d = {'scored_labels': [{'label': 'sadness', 'score': 0.98093181848526}, {'label': 'joy', 'score': 0.001407247269526124}, {'label': 'love', 'score': 0.0004157320945523679}, {'label': 'anger', 'score': 0.01649504341185093}, {'label': 'fear', 'score': 0.00039679379551671445}, {'label': 'surprise', 'score': 0.00035347335506230593}]}"
   ]
  },
  {
   "cell_type": "code",
   "execution_count": 9,
   "id": "4e9513be",
   "metadata": {},
   "outputs": [
    {
     "data": {
      "text/plain": [
       "{'scored_labels': [{'label': 'sadness', 'score': 0.98093181848526},\n",
       "  {'label': 'joy', 'score': 0.001407247269526124},\n",
       "  {'label': 'love', 'score': 0.0004157320945523679},\n",
       "  {'label': 'anger', 'score': 0.01649504341185093},\n",
       "  {'label': 'fear', 'score': 0.00039679379551671445},\n",
       "  {'label': 'surprise', 'score': 0.00035347335506230593}]}"
      ]
     },
     "execution_count": 9,
     "metadata": {},
     "output_type": "execute_result"
    }
   ],
   "source": [
    "d"
   ]
  },
  {
   "cell_type": "code",
   "execution_count": 10,
   "id": "99cf540d",
   "metadata": {},
   "outputs": [
    {
     "data": {
      "text/plain": [
       "[{'label': 'sadness', 'score': 0.98093181848526},\n",
       " {'label': 'joy', 'score': 0.001407247269526124},\n",
       " {'label': 'love', 'score': 0.0004157320945523679},\n",
       " {'label': 'anger', 'score': 0.01649504341185093},\n",
       " {'label': 'fear', 'score': 0.00039679379551671445},\n",
       " {'label': 'surprise', 'score': 0.00035347335506230593}]"
      ]
     },
     "execution_count": 10,
     "metadata": {},
     "output_type": "execute_result"
    }
   ],
   "source": [
    "d['scored_labels']"
   ]
  },
  {
   "cell_type": "code",
   "execution_count": null,
   "id": "7dafdb90",
   "metadata": {},
   "outputs": [],
   "source": [
    "!pip install emoji"
   ]
  },
  {
   "cell_type": "code",
   "execution_count": 25,
   "id": "96d2256b",
   "metadata": {},
   "outputs": [
    {
     "data": {
      "text/plain": [
       "'sadness'"
      ]
     },
     "execution_count": 25,
     "metadata": {},
     "output_type": "execute_result"
    }
   ],
   "source": [
    "l = []\n",
    "for i in d['scored_labels']:\n",
    "    l.append(i['score'])\n",
    "    \n",
    "index = sorted(list(enumerate(l)),key=lambda x: x[1],reverse =True)[0][0]\n",
    "d['scored_labels'][index]['label']"
   ]
  },
  {
   "cell_type": "code",
   "execution_count": null,
   "id": "d4f1b559",
   "metadata": {},
   "outputs": [],
   "source": []
  }
 ],
 "metadata": {
  "kernelspec": {
   "display_name": "base",
   "language": "python",
   "name": "python3"
  },
  "language_info": {
   "codemirror_mode": {
    "name": "ipython",
    "version": 3
   },
   "file_extension": ".py",
   "mimetype": "text/x-python",
   "name": "python",
   "nbconvert_exporter": "python",
   "pygments_lexer": "ipython3",
   "version": "3.12.4"
  }
 },
 "nbformat": 4,
 "nbformat_minor": 5
}
